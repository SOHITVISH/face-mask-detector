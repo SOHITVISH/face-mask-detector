{
 "cells": [
  {
   "cell_type": "markdown",
   "metadata": {},
   "source": [
    "### Face Mask Detector\n",
    "\n",
    "Face mask detection is a two-step process - first detect faces, then detect if the face is wearing a mask correctly, incorrectly, or not at all.\n",
    "\n",
    "This notebook contains the code for the second step in this process. Here I use MobileNet as the base model and train a custom head layer that will separate faces into one of three classes: no mask, mask worn incorrectly, and with mask.\n",
    "\n",
    "I have followed a similar structure to this [source code](https://www.pyimagesearch.com/2020/05/04/covid-19-face-mask-detector-with-opencv-keras-tensorflow-and-deep-learning/), further tuned and adapted to include 3 classes and to better suit the dataset."
   ]
  },
  {
   "cell_type": "code",
   "execution_count": 1,
   "metadata": {},
   "outputs": [],
   "source": [
    "# import the necessary packages\n",
    "import pandas as pd\n",
    "import numpy as np\n",
    "import matplotlib.pyplot as plt\n",
    "\n",
    "import pathlib\n",
    "import os\n",
    "import glob\n",
    "import cv2\n",
    "\n",
    "import tensorflow\n",
    "from tensorflow.keras.preprocessing.image import ImageDataGenerator\n",
    "from tensorflow.keras.applications import MobileNetV2\n",
    "from tensorflow.keras.layers import AveragePooling2D\n",
    "from tensorflow.keras.layers import Dropout\n",
    "from tensorflow.keras.layers import Flatten\n",
    "from tensorflow.keras.layers import Dense\n",
    "from tensorflow.keras.layers import Input\n",
    "from tensorflow.keras.models import Model, load_model\n",
    "from tensorflow.keras.optimizers import Adam\n",
    "from tensorflow.keras.applications.mobilenet_v2 import preprocess_input\n",
    "from tensorflow.keras.preprocessing.image import img_to_array\n",
    "from tensorflow.keras.preprocessing.image import load_img\n",
    "from tensorflow.keras.utils import to_categorical\n",
    "from sklearn.preprocessing import LabelEncoder\n",
    "from sklearn.model_selection import train_test_split\n",
    "from sklearn.metrics import classification_report, confusion_matrix"
   ]
  },
  {
   "cell_type": "code",
   "execution_count": 2,
   "metadata": {},
   "outputs": [],
   "source": [
    "# create file paths for easy reference\n",
    "image_path = pathlib.Path('/Users/claireph/DSI/Submissions/projects/capstone/data/images')\n",
    "annot_path = pathlib.Path('/Users/claireph/DSI/Submissions/projects/capstone/data/annotations/')\n",
    "image_directories = sorted(glob.glob(os.path.join(image_path,\"*.png\")))\n",
    "label_directories = sorted(glob.glob(os.path.join(annot_path, \"*.xml\")))"
   ]
  },
  {
   "cell_type": "code",
   "execution_count": 3,
   "metadata": {},
   "outputs": [
    {
     "data": {
      "text/html": [
       "<div>\n",
       "<style scoped>\n",
       "    .dataframe tbody tr th:only-of-type {\n",
       "        vertical-align: middle;\n",
       "    }\n",
       "\n",
       "    .dataframe tbody tr th {\n",
       "        vertical-align: top;\n",
       "    }\n",
       "\n",
       "    .dataframe thead th {\n",
       "        text-align: right;\n",
       "    }\n",
       "</style>\n",
       "<table border=\"1\" class=\"dataframe\">\n",
       "  <thead>\n",
       "    <tr style=\"text-align: right;\">\n",
       "      <th></th>\n",
       "      <th>image</th>\n",
       "      <th>Dimensions</th>\n",
       "      <th>face_count</th>\n",
       "      <th>Object 1</th>\n",
       "      <th>Object 2</th>\n",
       "      <th>Object 3</th>\n",
       "      <th>Object 4</th>\n",
       "      <th>Object 5</th>\n",
       "      <th>Object 6</th>\n",
       "      <th>Object 7</th>\n",
       "      <th>...</th>\n",
       "      <th>Object 106</th>\n",
       "      <th>Object 107</th>\n",
       "      <th>Object 108</th>\n",
       "      <th>Object 109</th>\n",
       "      <th>Object 110</th>\n",
       "      <th>Object 111</th>\n",
       "      <th>Object 112</th>\n",
       "      <th>Object 113</th>\n",
       "      <th>Object 114</th>\n",
       "      <th>Object 115</th>\n",
       "    </tr>\n",
       "  </thead>\n",
       "  <tbody>\n",
       "    <tr>\n",
       "      <th>0</th>\n",
       "      <td>maksssksksss0.png</td>\n",
       "      <td>[512, 366]</td>\n",
       "      <td>3</td>\n",
       "      <td>[without_mask, 79, 105, 109, 142]</td>\n",
       "      <td>[with_mask, 185, 100, 226, 144]</td>\n",
       "      <td>[without_mask, 325, 90, 360, 141]</td>\n",
       "      <td>0</td>\n",
       "      <td>0</td>\n",
       "      <td>0</td>\n",
       "      <td>0</td>\n",
       "      <td>...</td>\n",
       "      <td>0</td>\n",
       "      <td>0</td>\n",
       "      <td>0</td>\n",
       "      <td>0</td>\n",
       "      <td>0</td>\n",
       "      <td>0</td>\n",
       "      <td>0</td>\n",
       "      <td>0</td>\n",
       "      <td>0</td>\n",
       "      <td>0</td>\n",
       "    </tr>\n",
       "    <tr>\n",
       "      <th>1</th>\n",
       "      <td>maksssksksss1.png</td>\n",
       "      <td>[400, 156]</td>\n",
       "      <td>9</td>\n",
       "      <td>[with_mask, 321, 34, 354, 69]</td>\n",
       "      <td>[with_mask, 224, 38, 261, 73]</td>\n",
       "      <td>[with_mask, 299, 58, 315, 81]</td>\n",
       "      <td>[with_mask, 143, 74, 174, 115]</td>\n",
       "      <td>[with_mask, 74, 69, 95, 99]</td>\n",
       "      <td>[with_mask, 191, 67, 221, 93]</td>\n",
       "      <td>[with_mask, 21, 73, 44, 93]</td>\n",
       "      <td>...</td>\n",
       "      <td>0</td>\n",
       "      <td>0</td>\n",
       "      <td>0</td>\n",
       "      <td>0</td>\n",
       "      <td>0</td>\n",
       "      <td>0</td>\n",
       "      <td>0</td>\n",
       "      <td>0</td>\n",
       "      <td>0</td>\n",
       "      <td>0</td>\n",
       "    </tr>\n",
       "    <tr>\n",
       "      <th>2</th>\n",
       "      <td>maksssksksss10.png</td>\n",
       "      <td>[301, 400]</td>\n",
       "      <td>1</td>\n",
       "      <td>[with_mask, 98, 267, 194, 383]</td>\n",
       "      <td>0</td>\n",
       "      <td>0</td>\n",
       "      <td>0</td>\n",
       "      <td>0</td>\n",
       "      <td>0</td>\n",
       "      <td>0</td>\n",
       "      <td>...</td>\n",
       "      <td>0</td>\n",
       "      <td>0</td>\n",
       "      <td>0</td>\n",
       "      <td>0</td>\n",
       "      <td>0</td>\n",
       "      <td>0</td>\n",
       "      <td>0</td>\n",
       "      <td>0</td>\n",
       "      <td>0</td>\n",
       "      <td>0</td>\n",
       "    </tr>\n",
       "    <tr>\n",
       "      <th>3</th>\n",
       "      <td>maksssksksss100.png</td>\n",
       "      <td>[400, 226]</td>\n",
       "      <td>3</td>\n",
       "      <td>[with_mask, 189, 30, 245, 88]</td>\n",
       "      <td>[with_mask, 387, 54, 400, 75]</td>\n",
       "      <td>[with_mask, 118, 87, 163, 126]</td>\n",
       "      <td>0</td>\n",
       "      <td>0</td>\n",
       "      <td>0</td>\n",
       "      <td>0</td>\n",
       "      <td>...</td>\n",
       "      <td>0</td>\n",
       "      <td>0</td>\n",
       "      <td>0</td>\n",
       "      <td>0</td>\n",
       "      <td>0</td>\n",
       "      <td>0</td>\n",
       "      <td>0</td>\n",
       "      <td>0</td>\n",
       "      <td>0</td>\n",
       "      <td>0</td>\n",
       "    </tr>\n",
       "    <tr>\n",
       "      <th>4</th>\n",
       "      <td>maksssksksss101.png</td>\n",
       "      <td>[301, 400]</td>\n",
       "      <td>1</td>\n",
       "      <td>[with_mask, 48, 294, 164, 400]</td>\n",
       "      <td>0</td>\n",
       "      <td>0</td>\n",
       "      <td>0</td>\n",
       "      <td>0</td>\n",
       "      <td>0</td>\n",
       "      <td>0</td>\n",
       "      <td>...</td>\n",
       "      <td>0</td>\n",
       "      <td>0</td>\n",
       "      <td>0</td>\n",
       "      <td>0</td>\n",
       "      <td>0</td>\n",
       "      <td>0</td>\n",
       "      <td>0</td>\n",
       "      <td>0</td>\n",
       "      <td>0</td>\n",
       "      <td>0</td>\n",
       "    </tr>\n",
       "  </tbody>\n",
       "</table>\n",
       "<p>5 rows × 118 columns</p>\n",
       "</div>"
      ],
      "text/plain": [
       "                 image  Dimensions  face_count  \\\n",
       "0    maksssksksss0.png  [512, 366]           3   \n",
       "1    maksssksksss1.png  [400, 156]           9   \n",
       "2   maksssksksss10.png  [301, 400]           1   \n",
       "3  maksssksksss100.png  [400, 226]           3   \n",
       "4  maksssksksss101.png  [301, 400]           1   \n",
       "\n",
       "                            Object 1                         Object 2  \\\n",
       "0  [without_mask, 79, 105, 109, 142]  [with_mask, 185, 100, 226, 144]   \n",
       "1      [with_mask, 321, 34, 354, 69]    [with_mask, 224, 38, 261, 73]   \n",
       "2     [with_mask, 98, 267, 194, 383]                                0   \n",
       "3      [with_mask, 189, 30, 245, 88]    [with_mask, 387, 54, 400, 75]   \n",
       "4     [with_mask, 48, 294, 164, 400]                                0   \n",
       "\n",
       "                            Object 3                        Object 4  \\\n",
       "0  [without_mask, 325, 90, 360, 141]                               0   \n",
       "1      [with_mask, 299, 58, 315, 81]  [with_mask, 143, 74, 174, 115]   \n",
       "2                                  0                               0   \n",
       "3     [with_mask, 118, 87, 163, 126]                               0   \n",
       "4                                  0                               0   \n",
       "\n",
       "                      Object 5                       Object 6  \\\n",
       "0                            0                              0   \n",
       "1  [with_mask, 74, 69, 95, 99]  [with_mask, 191, 67, 221, 93]   \n",
       "2                            0                              0   \n",
       "3                            0                              0   \n",
       "4                            0                              0   \n",
       "\n",
       "                      Object 7  ... Object 106 Object 107 Object 108  \\\n",
       "0                            0  ...          0          0          0   \n",
       "1  [with_mask, 21, 73, 44, 93]  ...          0          0          0   \n",
       "2                            0  ...          0          0          0   \n",
       "3                            0  ...          0          0          0   \n",
       "4                            0  ...          0          0          0   \n",
       "\n",
       "  Object 109 Object 110 Object 111 Object 112 Object 113 Object 114 Object 115  \n",
       "0          0          0          0          0          0          0          0  \n",
       "1          0          0          0          0          0          0          0  \n",
       "2          0          0          0          0          0          0          0  \n",
       "3          0          0          0          0          0          0          0  \n",
       "4          0          0          0          0          0          0          0  \n",
       "\n",
       "[5 rows x 118 columns]"
      ]
     },
     "execution_count": 3,
     "metadata": {},
     "output_type": "execute_result"
    }
   ],
   "source": [
    "df = pd.read_pickle('image_df.pkl')\n",
    "df.head()"
   ]
  },
  {
   "cell_type": "markdown",
   "metadata": {},
   "source": [
    "### Prep Images for Face Mask Detection Model\n",
    "\n",
    "To train this model, the first step is to isolate all of the faces in each image and resize them for the model. To do this, we will look through all objects in the dataframe, using the bounding box dimensions to extract faces. Experimentation with various minimum facial dimensions made clear that a 15x15 pixel slice is ideal for the mask training model. The next step is to resize the faces to 224x224, which our model requires for input. Finally, the faces are preprocessed as required for the MobilenetV2 model. The preprocessing step scales all pixels to be between -1 and 1 sample-wise."
   ]
  },
  {
   "cell_type": "code",
   "execution_count": 4,
   "metadata": {},
   "outputs": [
    {
     "name": "stdout",
     "output_type": "stream",
     "text": [
      "Done!\n"
     ]
    }
   ],
   "source": [
    "classes = [\"without_mask\",\"mask_weared_incorrect\",\"with_mask\"]\n",
    "labels = []\n",
    "data = []\n",
    "\n",
    "# Extract data into respective label folders\n",
    "for idx,image in enumerate(image_directories):\n",
    "    img  = cv2.imread(image)\n",
    "    #scale to dimension\n",
    "    X,Y = df[\"Dimensions\"][idx]\n",
    "    cv2.resize(img,(int(X),int(Y)))\n",
    "    #find the face in each object\n",
    "    for obj in df.columns[3:]:\n",
    "        info = df[obj][idx]\n",
    "        if info!=0:\n",
    "            label = info[0]\n",
    "            # first element of the \"object\" cell - replace label with the index from classes list\n",
    "            info[0] = info[0].replace(str(label), str(classes.index(label)))\n",
    "            info=[int(each) for each in info]\n",
    "            face = img[info[2]:info[4],info[1]:info[3]]\n",
    "            # Set a minimum size of 15 x 15 for face detection to improve model performance\n",
    "            if((info[3]-info[1]>15) and (info[4]-info[2])>15):\n",
    "                try:\n",
    "                    face = cv2.resize(face, (224, 224))\n",
    "                    face = img_to_array(face)\n",
    "                    face = preprocess_input(face)\n",
    "                    data.append(face)\n",
    "                    labels.append(label)\n",
    "\n",
    "                except:\n",
    "                    pass\n",
    "\n",
    "print(\"Done!\")"
   ]
  },
  {
   "cell_type": "code",
   "execution_count": 5,
   "metadata": {},
   "outputs": [
    {
     "data": {
      "text/plain": [
       "array(['without_mask', 'with_mask', 'without_mask', 'with_mask',\n",
       "       'with_mask', 'with_mask', 'with_mask', 'with_mask', 'with_mask',\n",
       "       'with_mask'], dtype='<U21')"
      ]
     },
     "execution_count": 5,
     "metadata": {},
     "output_type": "execute_result"
    }
   ],
   "source": [
    "data = np.array(data, dtype=\"float32\")\n",
    "labels = np.array(labels)\n",
    "labels[:10]"
   ]
  },
  {
   "cell_type": "code",
   "execution_count": 6,
   "metadata": {},
   "outputs": [
    {
     "name": "stdout",
     "output_type": "stream",
     "text": [
      "Total faces for model:  2800\n",
      "Faces with mask:  2287\n",
      "Faces without mask:  418\n",
      "Faces with mask worn incorrectly:  95\n"
     ]
    }
   ],
   "source": [
    "# Check label counts after limiting data to bounding boxes with > 15x15 dims:\n",
    "label_dict = {'with_mask': 0, 'without_mask': 0, 'mask_weared_incorrect': 0}\n",
    "\n",
    "for i in labels:\n",
    "    label_dict[i] += 1\n",
    "\n",
    "print(\"Total faces for model: \", len(labels))\n",
    "print(\"Faces with mask: \", label_dict['with_mask'])\n",
    "print(\"Faces without mask: \", label_dict['without_mask'])\n",
    "print(\"Faces with mask worn incorrectly: \", label_dict['mask_weared_incorrect'])"
   ]
  },
  {
   "cell_type": "code",
   "execution_count": 7,
   "metadata": {},
   "outputs": [
    {
     "data": {
      "text/plain": [
       "0.8153950953678474"
      ]
     },
     "execution_count": 7,
     "metadata": {},
     "output_type": "execute_result"
    }
   ],
   "source": [
    "# Determine a baseline model\n",
    "baseline = 2394 / 2936\n",
    "baseline"
   ]
  },
  {
   "cell_type": "markdown",
   "metadata": {},
   "source": [
    "### Prep for Modeling\n",
    "\n",
    "\n",
    "Now that our data and labels have been extracted, resized, and preprocessed, there are a few additional steps that need to be taken before modeling. This includes:\n",
    "- encoding labels\n",
    "- train/test/splitting the data\n",
    "- creating guidelines for image augmentation\n",
    "\n",
    "The ImageDataGenerator allows us to randomly rotate, zoom, shift, shear, and flip each image - this leads to a more robust model that is less prone to overfitting."
   ]
  },
  {
   "cell_type": "code",
   "execution_count": 8,
   "metadata": {},
   "outputs": [
    {
     "data": {
      "text/plain": [
       "array([[0., 0., 1.],\n",
       "       [0., 1., 0.],\n",
       "       [0., 0., 1.],\n",
       "       ...,\n",
       "       [1., 0., 0.],\n",
       "       [0., 1., 0.],\n",
       "       [0., 1., 0.]], dtype=float32)"
      ]
     },
     "execution_count": 8,
     "metadata": {},
     "output_type": "execute_result"
    }
   ],
   "source": [
    "lb = LabelEncoder()\n",
    "labels = lb.fit_transform(labels)\n",
    "labels = to_categorical(labels)\n",
    "labels"
   ]
  },
  {
   "cell_type": "code",
   "execution_count": 9,
   "metadata": {},
   "outputs": [
    {
     "data": {
      "text/plain": [
       "array(['mask_weared_incorrect', 'with_mask', 'without_mask'], dtype='<U21')"
      ]
     },
     "execution_count": 9,
     "metadata": {},
     "output_type": "execute_result"
    }
   ],
   "source": [
    "lb.classes_"
   ]
  },
  {
   "cell_type": "code",
   "execution_count": 24,
   "metadata": {},
   "outputs": [],
   "source": [
    "X_train, X_test, y_train, y_test = train_test_split(data, labels, test_size = 0.30,\n",
    "                                                   stratify=labels, random_state = 22)"
   ]
  },
  {
   "cell_type": "code",
   "execution_count": 25,
   "metadata": {},
   "outputs": [],
   "source": [
    "aug = ImageDataGenerator(\n",
    "    rotation_range=20,\n",
    "    zoom_range=0.15,\n",
    "    width_shift_range=0.2,\n",
    "    height_shift_range=0.2,\n",
    "    shear_range=0.15,\n",
    "    horizontal_flip=True,\n",
    "    fill_mode=\"nearest\")"
   ]
  },
  {
   "cell_type": "markdown",
   "metadata": {},
   "source": [
    "### Model\n",
    "\n",
    "MobileNetV2 is used as the base model. Model is loaded with pre-trained imagenet weights - allowing for transfer learning! This will be especially helpful for our smaller dataset. More can be learned about the MobileNetV2 model [here.](https://arxiv.org/pdf/1801.04381.pdf)  \n",
    "\n",
    "The top of the model is not included so that a custom head layer can be built on top."
   ]
  },
  {
   "cell_type": "code",
   "execution_count": 26,
   "metadata": {},
   "outputs": [],
   "source": [
    "# Set initial parameters\n",
    "INIT_LR = .0005\n",
    "EPOCHS = 50\n",
    "BS = 96"
   ]
  },
  {
   "cell_type": "code",
   "execution_count": 27,
   "metadata": {},
   "outputs": [
    {
     "name": "stdout",
     "output_type": "stream",
     "text": [
      "WARNING:tensorflow:`input_shape` is undefined or non-square, or `rows` is not in [96, 128, 160, 192, 224]. Weights for input shape (224, 224) will be loaded as the default.\n"
     ]
    }
   ],
   "source": [
    "# load base model with imagenet pre-trained weights\n",
    "baseModel = MobileNetV2(weights=\"imagenet\", include_top=False,\n",
    "    input_tensor=Input(shape=(224, 224, 3)))"
   ]
  },
  {
   "cell_type": "code",
   "execution_count": 28,
   "metadata": {},
   "outputs": [],
   "source": [
    "# build top layer\n",
    "headModel = baseModel.output\n",
    "headModel = AveragePooling2D(pool_size=(7, 7))(headModel)\n",
    "headModel = Flatten(name=\"flatten\")(headModel)\n",
    "headModel = Dense(64, activation=\"relu\")(headModel)\n",
    "headModel = Dropout(0.5)(headModel)\n",
    "headModel = Dense(3, activation=\"softmax\")(headModel)"
   ]
  },
  {
   "cell_type": "code",
   "execution_count": 29,
   "metadata": {},
   "outputs": [],
   "source": [
    "# combine base model and head model layers, this will be the model used for training\n",
    "model = Model(inputs=baseModel.input, outputs=headModel)\n",
    "\n",
    "# freeze base model layers so that they will not be updated during the training process. \n",
    "# This way, only the head layers are adjusted during back propogation.\n",
    "for layer in baseModel.layers:\n",
    "    layer.trainable = False"
   ]
  },
  {
   "cell_type": "code",
   "execution_count": 30,
   "metadata": {},
   "outputs": [],
   "source": [
    "import tensorboard\n",
    "import datetime\n",
    "%reload_ext tensorboard\n",
    "logdir=\"logs/fit/\" + datetime.datetime.now().strftime(\"%Y%m%d-%H%M%S\")"
   ]
  },
  {
   "cell_type": "code",
   "execution_count": 31,
   "metadata": {},
   "outputs": [],
   "source": [
    "# add callbacks - one for early stopping, and one that will create a tensorboard for evaluation\n",
    "callback1 = tensorflow.keras.callbacks.EarlyStopping(monitor='val_loss', patience=3)\n",
    "callback2 = tensorflow.keras.callbacks.TensorBoard(log_dir=logdir)"
   ]
  },
  {
   "cell_type": "code",
   "execution_count": 32,
   "metadata": {},
   "outputs": [
    {
     "name": "stdout",
     "output_type": "stream",
     "text": [
      "Epoch 1/50\n",
      "20/20 [==============================] - 65s 3s/step - loss: 0.5810 - accuracy: 0.8149 - val_loss: 0.3456 - val_accuracy: 0.8905\n",
      "Epoch 2/50\n",
      "20/20 [==============================] - 57s 3s/step - loss: 0.3797 - accuracy: 0.8702 - val_loss: 0.3002 - val_accuracy: 0.9131\n",
      "Epoch 3/50\n",
      "20/20 [==============================] - 52s 3s/step - loss: 0.3377 - accuracy: 0.8841 - val_loss: 0.2848 - val_accuracy: 0.9036\n",
      "Epoch 4/50\n",
      "20/20 [==============================] - 50s 3s/step - loss: 0.3179 - accuracy: 0.8922 - val_loss: 0.2718 - val_accuracy: 0.9167\n",
      "Epoch 5/50\n",
      "20/20 [==============================] - 50s 3s/step - loss: 0.3005 - accuracy: 0.8948 - val_loss: 0.2477 - val_accuracy: 0.9155\n",
      "Epoch 6/50\n",
      "20/20 [==============================] - 54s 3s/step - loss: 0.2783 - accuracy: 0.9029 - val_loss: 0.2440 - val_accuracy: 0.9155\n",
      "Epoch 7/50\n",
      "20/20 [==============================] - 56s 3s/step - loss: 0.2790 - accuracy: 0.9120 - val_loss: 0.2410 - val_accuracy: 0.9179\n",
      "Epoch 8/50\n",
      "20/20 [==============================] - 61s 3s/step - loss: 0.2609 - accuracy: 0.9104 - val_loss: 0.2349 - val_accuracy: 0.9167\n",
      "Epoch 9/50\n",
      "20/20 [==============================] - 67s 3s/step - loss: 0.2599 - accuracy: 0.9115 - val_loss: 0.2272 - val_accuracy: 0.9214\n",
      "Epoch 10/50\n",
      "20/20 [==============================] - 53s 3s/step - loss: 0.2625 - accuracy: 0.9126 - val_loss: 0.2218 - val_accuracy: 0.9214\n",
      "Epoch 11/50\n",
      "20/20 [==============================] - 49s 2s/step - loss: 0.2445 - accuracy: 0.9217 - val_loss: 0.2142 - val_accuracy: 0.9262\n",
      "Epoch 12/50\n",
      "20/20 [==============================] - 50s 2s/step - loss: 0.2313 - accuracy: 0.9195 - val_loss: 0.2123 - val_accuracy: 0.9274\n",
      "Epoch 13/50\n",
      "20/20 [==============================] - 58s 3s/step - loss: 0.2427 - accuracy: 0.9185 - val_loss: 0.2032 - val_accuracy: 0.9262\n",
      "Epoch 14/50\n",
      "20/20 [==============================] - 48s 2s/step - loss: 0.2449 - accuracy: 0.9163 - val_loss: 0.2142 - val_accuracy: 0.9298\n",
      "Epoch 15/50\n",
      "20/20 [==============================] - 48s 2s/step - loss: 0.2330 - accuracy: 0.9217 - val_loss: 0.2011 - val_accuracy: 0.9262\n",
      "Epoch 16/50\n",
      "20/20 [==============================] - 51s 3s/step - loss: 0.2118 - accuracy: 0.9260 - val_loss: 0.1985 - val_accuracy: 0.9286\n",
      "Epoch 17/50\n",
      "20/20 [==============================] - 48s 2s/step - loss: 0.2170 - accuracy: 0.9240 - val_loss: 0.2069 - val_accuracy: 0.9238\n",
      "Epoch 18/50\n",
      "20/20 [==============================] - 56s 3s/step - loss: 0.2165 - accuracy: 0.9270 - val_loss: 0.1956 - val_accuracy: 0.9357\n",
      "Epoch 19/50\n",
      "20/20 [==============================] - 50s 3s/step - loss: 0.2065 - accuracy: 0.9276 - val_loss: 0.1902 - val_accuracy: 0.9310\n",
      "Epoch 20/50\n",
      "20/20 [==============================] - 44s 2s/step - loss: 0.2143 - accuracy: 0.9249 - val_loss: 0.1970 - val_accuracy: 0.9310\n",
      "Epoch 21/50\n",
      "20/20 [==============================] - 43s 2s/step - loss: 0.1887 - accuracy: 0.9303 - val_loss: 0.1922 - val_accuracy: 0.9298\n",
      "Epoch 22/50\n",
      "20/20 [==============================] - 45s 2s/step - loss: 0.2010 - accuracy: 0.9318 - val_loss: 0.1818 - val_accuracy: 0.9405\n",
      "Epoch 23/50\n",
      "20/20 [==============================] - 53s 3s/step - loss: 0.1918 - accuracy: 0.9356 - val_loss: 0.1845 - val_accuracy: 0.9369\n",
      "Epoch 24/50\n",
      "20/20 [==============================] - 67s 3s/step - loss: 0.1920 - accuracy: 0.9328 - val_loss: 0.1829 - val_accuracy: 0.9345\n",
      "Epoch 25/50\n",
      "20/20 [==============================] - 81s 4s/step - loss: 0.1881 - accuracy: 0.9362 - val_loss: 0.1912 - val_accuracy: 0.9417\n"
     ]
    }
   ],
   "source": [
    "# compile our model\n",
    "opt = Adam(lr=INIT_LR, decay=INIT_LR / EPOCHS)\n",
    "model.compile(loss=\"categorical_crossentropy\", optimizer=opt,\n",
    "    metrics=[\"accuracy\"])\n",
    "\n",
    "# train the head of the network\n",
    "history = model.fit(\n",
    "    aug.flow(X_train, y_train, batch_size=BS),\n",
    "    steps_per_epoch=len(X_train) // BS,\n",
    "    validation_data=(X_test, y_test),\n",
    "    validation_steps=len(X_test) // BS,\n",
    "    epochs=EPOCHS,\n",
    "    callbacks=[callback1, callback2])"
   ]
  },
  {
   "cell_type": "code",
   "execution_count": 19,
   "metadata": {},
   "outputs": [],
   "source": [
    "# Model summary is quite long and includes all 17 blocks from MobileNetV2 - un-comment below if you want to dig deeper!\n",
    "# model.summary()"
   ]
  },
  {
   "cell_type": "markdown",
   "metadata": {},
   "source": [
    "### Model Metrics\n",
    "\n",
    "Training and validation accuracy were very closely tied - after training, accuracy score of 93.6% on the training data, and 94.2% on validation data. Categorical cross-entropy was used to measure loss, also very close for both train and validation - about 0.19.\n"
   ]
  },
  {
   "cell_type": "code",
   "execution_count": 36,
   "metadata": {},
   "outputs": [
    {
     "data": {
      "image/png": "[encoded data removed]",
      "text/plain": [
       "<Figure size 576x288 with 1 Axes>"
      ]
     },
     "metadata": {},
     "output_type": "display_data"
    }
   ],
   "source": [
    "# plot the training loss and accuracy\n",
    "N = len(history.epoch)\n",
    "plt.style.use(\"ggplot\")\n",
    "plt.figure(figsize = (8, 4))\n",
    "plt.plot(np.arange(0, N), history.history[\"loss\"], label=\"train_loss\")\n",
    "plt.plot(np.arange(0, N), history.history[\"val_loss\"], label=\"val_loss\")\n",
    "plt.plot(np.arange(0, N), history.history[\"accuracy\"], label=\"train_acc\")\n",
    "plt.plot(np.arange(0, N), history.history[\"val_accuracy\"], label=\"val_acc\")\n",
    "plt.title(\"Loss and Accuracy by Epoch\")\n",
    "plt.xlabel(\"Epoch #\")\n",
    "plt.ylabel(\"Loss/Accuracy\")\n",
    "plt.legend(loc=\"best\");"
   ]
  },
  {
   "cell_type": "markdown",
   "metadata": {},
   "source": [
    "### Model Predictions\n",
    "\n",
    "Now that we have a trained model it is time to build predictions. Here the challenge of imbalanced classes is apparent: the Precision on \"Mask Weared Incorrect\" is 100%, but recall is only 0.21. The metrics, along with the confusion matrix show that this model is very good at correctly predicting the \"With Mask\" and \"Without Mask\" categories."
   ]
  },
  {
   "cell_type": "code",
   "execution_count": 33,
   "metadata": {},
   "outputs": [
    {
     "name": "stdout",
     "output_type": "stream",
     "text": [
      "                       precision    recall  f1-score   support\n",
      "\n",
      "mask_weared_incorrect       1.00      0.21      0.34        29\n",
      "            with_mask       0.94      0.99      0.97       686\n",
      "         without_mask       0.92      0.84      0.88       125\n",
      "\n",
      "             accuracy                           0.94       840\n",
      "            macro avg       0.96      0.68      0.73       840\n",
      "         weighted avg       0.94      0.94      0.93       840\n",
      "\n"
     ]
    }
   ],
   "source": [
    "# make predictions on the testing set\n",
    "predIdxs = model.predict(X_test, batch_size=BS)\n",
    "\n",
    "# find the index of the label with corresponding largest predicted probability\n",
    "predIdxs = np.argmax(predIdxs, axis=1)\n",
    "\n",
    "print(classification_report(y_test.argmax(axis=1), predIdxs,\n",
    "    target_names=lb.classes_))"
   ]
  },
  {
   "cell_type": "code",
   "execution_count": 34,
   "metadata": {},
   "outputs": [],
   "source": [
    "cm = confusion_matrix(y_test.argmax(axis=1), predIdxs)"
   ]
  },
  {
   "cell_type": "code",
   "execution_count": 35,
   "metadata": {},
   "outputs": [
    {
     "data": {
      "image/png": "[encoded data removed]",
      "text/plain": [
       "<Figure size 432x288 with 2 Axes>"
      ]
     },
     "metadata": {},
     "output_type": "display_data"
    }
   ],
   "source": [
    "# Aid from: https://stackoverflow.com/questions/51282098/plotting-confusion-matrix-for-an-image-classification-model\n",
    "plt.style.use(\"ggplot\")\n",
    "plt.imshow(cm, cmap=plt.cm.Blues, interpolation='nearest')\n",
    "plt.xlabel(\"Predicted labels\")\n",
    "plt.ylabel(\"True labels\")\n",
    "plt.xticks(np.arange(len(cm)), ['Worn Incorrectly', 'With Mask', 'Without Mask'], rotation=45, size='large')\n",
    "plt.yticks(np.arange(len(cm)), ['Worn Incorrectly', 'With Mask', 'Without Mask'], rotation=45, size='large')\n",
    "plt.title('Confusion matrix ')\n",
    "plt.grid(None)\n",
    "plt.colorbar()\n",
    "for i in range(len(cm)):\n",
    "    for j in range(len(cm)):\n",
    "        plt.text(j, i, cm[i, j], ha='center', va='center', size='large')\n",
    "plt.show()"
   ]
  },
  {
   "cell_type": "code",
   "execution_count": 37,
   "metadata": {},
   "outputs": [
    {
     "data": {
      "text/plain": [
       "Reusing TensorBoard on port 6007 (pid 23689), started 4 days, 3:05:09 ago. (Use '!kill 23689' to kill it.)"
      ]
     },
     "metadata": {},
     "output_type": "display_data"
    },
    {
     "data": {
      "text/html": [
       "\n",
       "      <iframe id=\"tensorboard-frame-cfefb29a04af3aa8\" width=\"100%\" height=\"800\" frameborder=\"0\">\n",
       "      </iframe>\n",
       "      <script>\n",
       "        (function() {\n",
       "          const frame = document.getElementById(\"tensorboard-frame-cfefb29a04af3aa8\");\n",
       "          const url = new URL(\"/\", window.location);\n",
       "          const port = 6007;\n",
       "          if (port) {\n",
       "            url.port = port;\n",
       "          }\n",
       "          frame.src = url;\n",
       "        })();\n",
       "      </script>\n",
       "    "
      ],
      "text/plain": [
       "<IPython.core.display.HTML object>"
      ]
     },
     "metadata": {},
     "output_type": "display_data"
    }
   ],
   "source": [
    "# Run a TensorBoard if we're feeling fancy!\n",
    "%tensorboard --logdir logs/fit"
   ]
  },
  {
   "cell_type": "markdown",
   "metadata": {},
   "source": [
    "### Save Model\n",
    "\n",
    "Now that we have a saved face mask detector model, we can experiment with how this model performs on various face detectors. In the following notebooks, this model will make predictions based on faces detected using OpenCV DNN and MTCNN. This model can also be loaded into a .py script to be used for video detection."
   ]
  },
  {
   "cell_type": "code",
   "execution_count": 38,
   "metadata": {},
   "outputs": [],
   "source": [
    "# Save model\n",
    "model.save('face_mask_detector.h5')"
   ]
  }
 ],
 "metadata": {
  "kernelspec": {
   "display_name": "Python 3",
   "language": "python",
   "name": "python3"
  },
  "language_info": {
   "codemirror_mode": {
    "name": "ipython",
    "version": 3
   },
   "file_extension": ".py",
   "mimetype": "text/x-python",
   "name": "python",
   "nbconvert_exporter": "python",
   "pygments_lexer": "ipython3",
   "version": "3.8.3"
  }
 },
 "nbformat": 4,
 "nbformat_minor": 4
}
